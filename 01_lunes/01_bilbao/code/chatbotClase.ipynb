{
 "cells": [
  {
   "cell_type": "code",
   "execution_count": 1,
   "metadata": {},
   "outputs": [],
   "source": [
    "import nltk\n",
    "from nltk.stem import WordNetLemmatizer\n",
    "import numpy as np\n",
    "import random \n",
    "import string\n",
    "import speech_recognition as sr"
   ]
  },
  {
   "cell_type": "code",
   "execution_count": 2,
   "metadata": {},
   "outputs": [
    {
     "data": {
      "text/plain": [
       "'Para saber cómo vestir, la estación del año y la temperatura media de la zona marcan siempre la vestimenta más adecuada para los cruceros, aunque los cruceros tienden a ser cada vez más informales sobre todo durante el día.\\n\\nEl programa del día le indicará siempre la ropa más adecuada.\\n\\nRespecto al calzado, en tierra necesitarás zapatos cómodos para caminar, así como sombrero y protección solar (en verano).\\n\\nLas propinas son una norma generalizada, obligatorias, en todos los barcos de crucero, de hecho, forman parte del sueldo del personal y forman parte del llamado servicio.\\n\\nDependiendo de la naviera, para embarcar es conveniente llegar al embarque 3 o 4 horas antes de la hora de zarpar, normalmente los embarques suelen ser al mediodía y casi todas las compañías de cruceros ofrecen un buffet para comer.\\n\\nLa comida es un punto fuerte, los cruceros son una oportunidad única para poder degustar una amplia gama de alta calidad, con una diversidad de platos típicos de todas las partes del mundo, ya sea con sabor mediterráneo como al más propio estilo americano.\\n\\nLa reserva incluye el alojamiento en el barco en la categoría elegida, el transporte marítimo, todas las comidas, algunas bebidas sin alcohol (dependiendo del barco) y la mayoría del entretenimiento.\\n\\nPara pagar a bordo los gastos adicionales, estos serán cargados en una cuenta personal que se abrirá el día del embarque, excepto los gastos del casino y algunos otros especiales, de esta manera el pasajero no deberá llevar dinero encima.\\n\\nLa mayoría de buques ya disponen de internet como servicio.\\n\\nPuedes usar el teléfono móvil siempre que tengas cobertura suficiente para hacer llamadas, esto suele ser normalmente cuando el buque se encuentra en puerto o navegando cerca de la costa.\\n\\nLos itinerarios están hechos para que la navegación resulte lo más apacible posible, por lo que los lugares más visitados son de aguas tranquilas y por tanto el barco tiene poco movimiento.\\n\\nLos barcos de cruceros disponen de un servicio médico en caso de que se ponga enfermo, siendo los servicios médicos prestados son de pago, por lo que recomendamos utilizar un seguro médico.\\n\\nEstá prohibido fumar en los teatros, en los restaurantes y buffet de autoservicio (locales cerrados), en los corredores, pasillos, vestíbulos, antesalas e interiores de los ascensores y escaleras. En los salones se han previsto zonas reservadas para los fumadores. Pipas, cigarrillos y puros están permitidos sólo en algunos lugares dedicados a tal fin. \\n\\nActualmente los camarotes de los buques de crucero están diseñados para ofrecer el mayor confort a los pasajeros, pudiéndose encontrar en la mayoría de ellos cómo servicios privados con bañera o ducha, corriente eléctrica (110 o 220V), radio con varios canales, teléfono para comunicaciones entre cabinas o con el exterior, mueble tocador, cajas de seguridad (en cabina o en recepción), toallas, complementos de baño y tocador, etc.\\n\\nTodas las cabinas disponen de camas bajas o literas, según la ocupación del camarote.\\n\\nUn crucero no es sólo la navegación y las escalas, cada noche recibirá en su camarote el programa del día siguiente para que lo pueda planificar a su conveniencia con las actividades preparadas para el día siguiente, se detallan los horarios de todos los servicios y actividades a bordo, excursiones facultativas, etc.  \\n\\nSí, es posible con algunas compañías navieras desayunar en el camarote, quien desea su desayuno (café con leche, té, brioches, mermeladas, etc...) servido en el camarote puede rellenar la hoja de pedido que encontrará en el camarote y colocarla en la manilla externa de la puerta antes de ir a dormir. \\n\\nLa temperatura en los camarotes y en las suites se controla individualmente mediante un termostato.\\n\\nLas operaciones de desembarque en la actualidad son sencillas, únicamente deberás dejar listo tu equipaje la noche anterior al desembarque, a la hora que te indique el programa del día y dejar liquidados los gastos extras que hayas realizado durante el crucero.\\n\\nLos Cruceros son las vacaciones 10, muy cómodos y agradables. \\n\\nLos que tienen las visitas más interesantes, los Cruceros por Mediterráneo Oriental. \\n\\nLos más tranquilos, culturales y desbordantes de naturaleza, los Cruceros por el Norte de Europa. \\n\\nLos más animados y multinacionales, los Cruceros por el Caribe.\\n\\nNo se admiten mascotas a bordo.\\n\\nLos niños y jóvenes son especialmente bienvenidos a bordo y cuentan con multitud de actividades. \\n\\nSí, hay tiendas a bordo y vale la pena visitarlas, donde puedes encontrar perfumes, ropa, accesorios, cosméticos, joyas, relojes, recuerdos, etc.\\n\\nPor norma general, las embarazadas que lleguen a la 23ª semana de gestación antes de que termine el crucero, podrán realizarlo, siempre y cuando tengan un certificado firmado por el especialista que declare que están en condiciones de realizar el viaje (el número de semanas variará en función de la naviera).\\n\\nEstá prohibido transportar mercancías peligrosas, bebida y comida con procedencia del exterior, por lo que será recogido por el oficial de seguridad y entregado al pasajero al finalizar el desembarque.\\n\\nLos cruceros han sido y siguen siendo una gran alternativa para los viajes de novios por la gran cantidad de ventajas que ofrecen, es importante la sencillez de la reserva del crucero, ya que, además de elegir el crucero, no tenéis que preocuparos por nada.\\n\\nLa edad mínima de los bebés para viajar en un crucero es de 6 meses para todas las navieras, excepto alguna compañía especial que no hay edad mínima para el embarque.\\n'"
      ]
     },
     "execution_count": 2,
     "metadata": {},
     "output_type": "execute_result"
    }
   ],
   "source": [
    "r = sr.Recognizer()\n",
    "mic=sr.Microphone()\n",
    "f=open(r'Corpus_crucero.txt','r',errors='ignore')\n",
    "texto=f.read()\n",
    "texto"
   ]
  },
  {
   "cell_type": "markdown",
   "metadata": {},
   "source": [
    "# Preprocesamiento del corpus"
   ]
  },
  {
   "cell_type": "code",
   "execution_count": 3,
   "metadata": {},
   "outputs": [],
   "source": [
    "texto=texto.lower() #convertir en minuscula\n",
    "#instalar punkt y wordnet\n",
    "sent_tokens= nltk.sent_tokenize(texto) #tokenizo por sentencias\n",
    "word_tokens=nltk.word_tokenize(texto) #tokenizo por palabras\n",
    "lematizador= WordNetLemmatizer()\n",
    "\n",
    "def LemTokens(tokens):\n",
    "    return [lematizador.lemmatize(token) for token in tokens] #lematiza las palabras sin simbolos (acentos..)\n",
    "\n",
    "removerSimb= dict((ord(simbolo),None) for simbolo in string.punctuation)\n",
    "def LemNormalizar(texto):\n",
    "    return LemTokens(nltk.word_tokenize(texto.lower().translate(removerSimb)))"
   ]
  },
  {
   "cell_type": "markdown",
   "metadata": {},
   "source": [
    "# Preprocesamiento del mensaje y evaluar similitud"
   ]
  },
  {
   "cell_type": "code",
   "execution_count": 4,
   "metadata": {},
   "outputs": [],
   "source": [
    "from sklearn.feature_extraction.text import TfidfVectorizer\n",
    "from sklearn.metrics.pairwise import cosine_similarity\n",
    "from nltk.corpus import stopwords"
   ]
  },
  {
   "cell_type": "code",
   "execution_count": 5,
   "metadata": {},
   "outputs": [],
   "source": [
    "def respuesta(entrada_user):\n",
    "    chat_respuesta=''\n",
    "    lenguaje=stopwords.words('spanish')\n",
    "    sent_tokens.append(entrada_user) #añade al final del corpus la pregunta del usuario.\n",
    "    finversa= TfidfVectorizer(tokenizer=LemNormalizar,stop_words=lenguaje)\n",
    "    finversaTrain=finversa.fit_transform(sent_tokens)\n",
    "    #evalua la similitud entre el corpus y el mensaje (finversaTrain)\n",
    "    valorSimilitud = cosine_similarity(finversaTrain[-1],finversaTrain)\n",
    "    indice = valorSimilitud.argsort()[0][-2] #devuelve el indice del anteultimo elemento ordenado (respuesta)\n",
    "    flat = valorSimilitud.flatten() #convierte en array\n",
    "    flat.sort() #lo ordeno\n",
    "    respuesta = flat[-2]\n",
    "    if respuesta ==0:\n",
    "        chat_respuesta=chat_respuesta + ' no se que responderte, comunicate con martin@crucero.com '\n",
    "        return chat_respuesta\n",
    "    else:\n",
    "        chat_respuesta=chat_respuesta + sent_tokens[indice]\n",
    "        return chat_respuesta\n",
    "    "
   ]
  },
  {
   "cell_type": "code",
   "execution_count": null,
   "metadata": {},
   "outputs": [],
   "source": [
    "#respuesta('el desayuno como es')"
   ]
  },
  {
   "cell_type": "markdown",
   "metadata": {},
   "source": [
    "# definicion de coincidencias"
   ]
  },
  {
   "cell_type": "code",
   "execution_count": 6,
   "metadata": {},
   "outputs": [],
   "source": [
    "saludo_entrada_usuario=[\"hola\",\"buenas\",\"saludos\",\"hey\",\"como va\"]\n",
    "saludo_salida_chatbot=[\"hola\",\"hola que tal?\",\"hola ¿Como te puedo ayudar?\",\"hola encantado en conocerte\"]\n",
    "\n",
    "def saludos(sentencia):\n",
    "    for word in sentencia.split():\n",
    "        if word.lower() in saludo_entrada_usuario:\n",
    "            return random.choice(saludo_salida_chatbot)"
   ]
  },
  {
   "cell_type": "markdown",
   "metadata": {},
   "source": [
    "# reconocimiento de voz"
   ]
  },
  {
   "cell_type": "code",
   "execution_count": 7,
   "metadata": {},
   "outputs": [],
   "source": [
    "def reconocerVoz():\n",
    "    with mic as source:\n",
    "    #r.adjust_for_ambient_noise(source)\n",
    "        audioGrabado=r.listen(source)\n",
    "    try:\n",
    "        texto=r.recognize_google(audioGrabado,language='es-ES') \n",
    "    except sr.UnknownValueError:\n",
    "        texto=\"Consulta: \"\n",
    "    return texto"
   ]
  },
  {
   "cell_type": "markdown",
   "metadata": {},
   "source": [
    "# generación de respuesta"
   ]
  },
  {
   "cell_type": "code",
   "execution_count": 8,
   "metadata": {},
   "outputs": [
    {
     "name": "stdout",
     "output_type": "stream",
     "text": [
      "MartinBot: mi nombre es MartinBot. Contestaré tus dudas sobre el crucero. Si queres salir escribi salir \n",
      "MartinBot: está prohibido fumar en los teatros, en los restaurantes y buffet de autoservicio (locales cerrados), en los corredores, pasillos, vestíbulos, antesalas e interiores de los ascensores y escaleras.\n",
      "MartinBot: los barcos de cruceros disponen de un servicio médico en caso de que se ponga enfermo, siendo los servicios médicos prestados son de pago, por lo que recomendamos utilizar un seguro médico.\n",
      "MartinBot: la mayoría de buques ya disponen de internet como servicio.\n"
     ]
    },
    {
     "ename": "KeyboardInterrupt",
     "evalue": "",
     "output_type": "error",
     "traceback": [
      "\u001b[1;31m---------------------------------------------------------------------------\u001b[0m",
      "\u001b[1;31mKeyboardInterrupt\u001b[0m                         Traceback (most recent call last)",
      "\u001b[1;32m<ipython-input-8-3391711a7d68>\u001b[0m in \u001b[0;36m<module>\u001b[1;34m\u001b[0m\n\u001b[0;32m      3\u001b[0m \u001b[1;32mwhile\u001b[0m\u001b[1;33m(\u001b[0m\u001b[0mflag\u001b[0m\u001b[1;33m==\u001b[0m\u001b[1;32mTrue\u001b[0m\u001b[1;33m)\u001b[0m\u001b[1;33m:\u001b[0m\u001b[1;33m\u001b[0m\u001b[1;33m\u001b[0m\u001b[0m\n\u001b[0;32m      4\u001b[0m     \u001b[1;31m#pregunta=input()\u001b[0m\u001b[1;33m\u001b[0m\u001b[1;33m\u001b[0m\u001b[1;33m\u001b[0m\u001b[0m\n\u001b[1;32m----> 5\u001b[1;33m     \u001b[0mpregunta\u001b[0m\u001b[1;33m=\u001b[0m\u001b[0mreconocerVoz\u001b[0m\u001b[1;33m(\u001b[0m\u001b[1;33m)\u001b[0m\u001b[1;33m\u001b[0m\u001b[1;33m\u001b[0m\u001b[0m\n\u001b[0m\u001b[0;32m      6\u001b[0m     \u001b[1;32mif\u001b[0m \u001b[0mpregunta\u001b[0m\u001b[1;33m!=\u001b[0m\u001b[1;34m\"Consulta: \"\u001b[0m\u001b[1;33m:\u001b[0m\u001b[1;33m\u001b[0m\u001b[1;33m\u001b[0m\u001b[0m\n\u001b[0;32m      7\u001b[0m         \u001b[0mpregunta\u001b[0m\u001b[1;33m=\u001b[0m\u001b[0mpregunta\u001b[0m\u001b[1;33m.\u001b[0m\u001b[0mlower\u001b[0m\u001b[1;33m(\u001b[0m\u001b[1;33m)\u001b[0m \u001b[1;31m#convertir a minuscula\u001b[0m\u001b[1;33m\u001b[0m\u001b[1;33m\u001b[0m\u001b[0m\n",
      "\u001b[1;32m<ipython-input-7-a64656c758ed>\u001b[0m in \u001b[0;36mreconocerVoz\u001b[1;34m()\u001b[0m\n\u001b[0;32m      2\u001b[0m     \u001b[1;32mwith\u001b[0m \u001b[0mmic\u001b[0m \u001b[1;32mas\u001b[0m \u001b[0msource\u001b[0m\u001b[1;33m:\u001b[0m\u001b[1;33m\u001b[0m\u001b[1;33m\u001b[0m\u001b[0m\n\u001b[0;32m      3\u001b[0m     \u001b[1;31m#r.adjust_for_ambient_noise(source)\u001b[0m\u001b[1;33m\u001b[0m\u001b[1;33m\u001b[0m\u001b[1;33m\u001b[0m\u001b[0m\n\u001b[1;32m----> 4\u001b[1;33m         \u001b[0maudioGrabado\u001b[0m\u001b[1;33m=\u001b[0m\u001b[0mr\u001b[0m\u001b[1;33m.\u001b[0m\u001b[0mlisten\u001b[0m\u001b[1;33m(\u001b[0m\u001b[0msource\u001b[0m\u001b[1;33m)\u001b[0m\u001b[1;33m\u001b[0m\u001b[1;33m\u001b[0m\u001b[0m\n\u001b[0m\u001b[0;32m      5\u001b[0m     \u001b[1;32mtry\u001b[0m\u001b[1;33m:\u001b[0m\u001b[1;33m\u001b[0m\u001b[1;33m\u001b[0m\u001b[0m\n\u001b[0;32m      6\u001b[0m         \u001b[0mtexto\u001b[0m\u001b[1;33m=\u001b[0m\u001b[0mr\u001b[0m\u001b[1;33m.\u001b[0m\u001b[0mrecognize_google\u001b[0m\u001b[1;33m(\u001b[0m\u001b[0maudioGrabado\u001b[0m\u001b[1;33m,\u001b[0m\u001b[0mlanguage\u001b[0m\u001b[1;33m=\u001b[0m\u001b[1;34m'es-ES'\u001b[0m\u001b[1;33m)\u001b[0m\u001b[1;33m\u001b[0m\u001b[1;33m\u001b[0m\u001b[0m\n",
      "\u001b[1;32m~\\Anaconda3\\lib\\site-packages\\speech_recognition\\__init__.py\u001b[0m in \u001b[0;36mlisten\u001b[1;34m(self, source, timeout, phrase_time_limit, snowboy_configuration)\u001b[0m\n\u001b[0;32m    650\u001b[0m                     \u001b[1;32mbreak\u001b[0m\u001b[1;33m\u001b[0m\u001b[1;33m\u001b[0m\u001b[0m\n\u001b[0;32m    651\u001b[0m \u001b[1;33m\u001b[0m\u001b[0m\n\u001b[1;32m--> 652\u001b[1;33m                 \u001b[0mbuffer\u001b[0m \u001b[1;33m=\u001b[0m \u001b[0msource\u001b[0m\u001b[1;33m.\u001b[0m\u001b[0mstream\u001b[0m\u001b[1;33m.\u001b[0m\u001b[0mread\u001b[0m\u001b[1;33m(\u001b[0m\u001b[0msource\u001b[0m\u001b[1;33m.\u001b[0m\u001b[0mCHUNK\u001b[0m\u001b[1;33m)\u001b[0m\u001b[1;33m\u001b[0m\u001b[1;33m\u001b[0m\u001b[0m\n\u001b[0m\u001b[0;32m    653\u001b[0m                 \u001b[1;32mif\u001b[0m \u001b[0mlen\u001b[0m\u001b[1;33m(\u001b[0m\u001b[0mbuffer\u001b[0m\u001b[1;33m)\u001b[0m \u001b[1;33m==\u001b[0m \u001b[1;36m0\u001b[0m\u001b[1;33m:\u001b[0m \u001b[1;32mbreak\u001b[0m  \u001b[1;31m# reached end of the stream\u001b[0m\u001b[1;33m\u001b[0m\u001b[1;33m\u001b[0m\u001b[0m\n\u001b[0;32m    654\u001b[0m                 \u001b[0mframes\u001b[0m\u001b[1;33m.\u001b[0m\u001b[0mappend\u001b[0m\u001b[1;33m(\u001b[0m\u001b[0mbuffer\u001b[0m\u001b[1;33m)\u001b[0m\u001b[1;33m\u001b[0m\u001b[1;33m\u001b[0m\u001b[0m\n",
      "\u001b[1;32m~\\Anaconda3\\lib\\site-packages\\speech_recognition\\__init__.py\u001b[0m in \u001b[0;36mread\u001b[1;34m(self, size)\u001b[0m\n\u001b[0;32m    159\u001b[0m \u001b[1;33m\u001b[0m\u001b[0m\n\u001b[0;32m    160\u001b[0m         \u001b[1;32mdef\u001b[0m \u001b[0mread\u001b[0m\u001b[1;33m(\u001b[0m\u001b[0mself\u001b[0m\u001b[1;33m,\u001b[0m \u001b[0msize\u001b[0m\u001b[1;33m)\u001b[0m\u001b[1;33m:\u001b[0m\u001b[1;33m\u001b[0m\u001b[1;33m\u001b[0m\u001b[0m\n\u001b[1;32m--> 161\u001b[1;33m             \u001b[1;32mreturn\u001b[0m \u001b[0mself\u001b[0m\u001b[1;33m.\u001b[0m\u001b[0mpyaudio_stream\u001b[0m\u001b[1;33m.\u001b[0m\u001b[0mread\u001b[0m\u001b[1;33m(\u001b[0m\u001b[0msize\u001b[0m\u001b[1;33m,\u001b[0m \u001b[0mexception_on_overflow\u001b[0m\u001b[1;33m=\u001b[0m\u001b[1;32mFalse\u001b[0m\u001b[1;33m)\u001b[0m\u001b[1;33m\u001b[0m\u001b[1;33m\u001b[0m\u001b[0m\n\u001b[0m\u001b[0;32m    162\u001b[0m \u001b[1;33m\u001b[0m\u001b[0m\n\u001b[0;32m    163\u001b[0m         \u001b[1;32mdef\u001b[0m \u001b[0mclose\u001b[0m\u001b[1;33m(\u001b[0m\u001b[0mself\u001b[0m\u001b[1;33m)\u001b[0m\u001b[1;33m:\u001b[0m\u001b[1;33m\u001b[0m\u001b[1;33m\u001b[0m\u001b[0m\n",
      "\u001b[1;32m~\\Anaconda3\\lib\\site-packages\\pyaudio.py\u001b[0m in \u001b[0;36mread\u001b[1;34m(self, num_frames, exception_on_overflow)\u001b[0m\n\u001b[0;32m    606\u001b[0m                           paCanNotReadFromAnOutputOnlyStream)\n\u001b[0;32m    607\u001b[0m \u001b[1;33m\u001b[0m\u001b[0m\n\u001b[1;32m--> 608\u001b[1;33m         \u001b[1;32mreturn\u001b[0m \u001b[0mpa\u001b[0m\u001b[1;33m.\u001b[0m\u001b[0mread_stream\u001b[0m\u001b[1;33m(\u001b[0m\u001b[0mself\u001b[0m\u001b[1;33m.\u001b[0m\u001b[0m_stream\u001b[0m\u001b[1;33m,\u001b[0m \u001b[0mnum_frames\u001b[0m\u001b[1;33m,\u001b[0m \u001b[0mexception_on_overflow\u001b[0m\u001b[1;33m)\u001b[0m\u001b[1;33m\u001b[0m\u001b[1;33m\u001b[0m\u001b[0m\n\u001b[0m\u001b[0;32m    609\u001b[0m \u001b[1;33m\u001b[0m\u001b[0m\n\u001b[0;32m    610\u001b[0m     \u001b[1;32mdef\u001b[0m \u001b[0mget_read_available\u001b[0m\u001b[1;33m(\u001b[0m\u001b[0mself\u001b[0m\u001b[1;33m)\u001b[0m\u001b[1;33m:\u001b[0m\u001b[1;33m\u001b[0m\u001b[1;33m\u001b[0m\u001b[0m\n",
      "\u001b[1;31mKeyboardInterrupt\u001b[0m: "
     ]
    }
   ],
   "source": [
    "flag=True\n",
    "print('MartinBot: mi nombre es MartinBot. Contestaré tus dudas sobre el crucero. Si queres salir escribi salir ')\n",
    "while(flag==True):\n",
    "    #pregunta=input()\n",
    "    pregunta=reconocerVoz()\n",
    "    if pregunta!=\"Consulta: \":\n",
    "        pregunta=pregunta.lower() #convertir a minuscula\n",
    "        if(pregunta!='salir'):\n",
    "            respuestaChatBot=saludos(pregunta)\n",
    "            if respuestaChatBot!=None:\n",
    "                print(\"MartinBot: \" +respuestaChatBot)\n",
    "            else:\n",
    "                respuestaChatBot=respuesta(pregunta)\n",
    "                print(\"MartinBot: \" +respuestaChatBot)\n",
    "                sent_tokens.remove(pregunta)\n",
    "        else:\n",
    "            flag=False\n",
    "            print(\"MartinBot: Muchas gracias por usar el servicio, saludos\" )\n",
    "    "
   ]
  },
  {
   "cell_type": "code",
   "execution_count": null,
   "metadata": {},
   "outputs": [],
   "source": []
  }
 ],
 "metadata": {
  "kernelspec": {
   "display_name": "Python 3",
   "language": "python",
   "name": "python3"
  },
  "language_info": {
   "codemirror_mode": {
    "name": "ipython",
    "version": 3
   },
   "file_extension": ".py",
   "mimetype": "text/x-python",
   "name": "python",
   "nbconvert_exporter": "python",
   "pygments_lexer": "ipython3",
   "version": "3.7.3"
  }
 },
 "nbformat": 4,
 "nbformat_minor": 2
}
