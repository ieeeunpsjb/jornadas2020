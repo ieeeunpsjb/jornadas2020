{
 "cells": [
  {
   "cell_type": "code",
   "execution_count": 3,
   "metadata": {},
   "outputs": [
    {
     "name": "stdout",
     "output_type": "stream",
     "text": [
      "my name is martin\n",
      "Sentiment(polarity=0.0, subjectivity=0.0)\n",
      "[('my', 'PRP$'), ('name', 'NN'), ('is', 'VBZ'), ('martin', 'JJ')]\n",
      "Mi nombre es Martin\n"
     ]
    }
   ],
   "source": [
    "import nltk\n",
    "#nltk.download('averaged_perceptron_tagger')\n",
    "from textblob import TextBlob\n",
    "\n",
    "texto = input()\n",
    "#analysis = TextBlob(\"This table is black\")\n",
    "analysis = TextBlob(texto)\n",
    "print(analysis.sentiment)\n",
    "\n",
    "print(analysis.tags)\n",
    "\n",
    "print(analysis.translate(to='es'))\n",
    "\n",
    "#print(dir(analysis))"
   ]
  },
  {
   "cell_type": "code",
   "execution_count": 4,
   "metadata": {},
   "outputs": [
    {
     "name": "stdout",
     "output_type": "stream",
     "text": [
      "Precisión positiva = 57.692307692307686% via 26 ejemplos\n"
     ]
    }
   ],
   "source": [
    "cantidad_muestras = 0\n",
    "positivos = 0\n",
    "\n",
    "f = open(\"frasesPositivas.txt\",\"r\")\n",
    "frases = f.read().split('\\n') \n",
    "for line in frases:\n",
    "    try:\n",
    "        analysis = TextBlob(line)\n",
    "        eng=analysis.translate(to='en')\n",
    "        if eng.sentiment.polarity > 0.2:\n",
    "            positivos += 1\n",
    "        cantidad_muestras +=1\n",
    "    except:\n",
    "        print('Error en el análisis')\n",
    "       \n",
    "        \n",
    "print(\"Precisión positiva = {}% via {} ejemplos\".format(positivos/cantidad_muestras*100.0, cantidad_muestras))\n",
    "#frases"
   ]
  },
  {
   "cell_type": "code",
   "execution_count": 5,
   "metadata": {},
   "outputs": [
    {
     "name": "stdout",
     "output_type": "stream",
     "text": [
      "Precisión negativa = 90.0% via 20 ejemplos\n"
     ]
    }
   ],
   "source": [
    "cantidad_muestras_neg = 0\n",
    "negativos = 0\n",
    "\n",
    "f = open(\"frasesNegativas.txt\",\"r\")\n",
    "frases = f.read().split('\\n') \n",
    "for line in frases:\n",
    "    try:\n",
    "        analysis = TextBlob(line)\n",
    "        eng=analysis.translate(to='en')\n",
    "        if eng.sentiment.polarity <= 0.2:\n",
    "            negativos += 1\n",
    "        cantidad_muestras_neg +=1\n",
    "    except:\n",
    "        print('Error en el análisis')\n",
    "        print(cantidad_muestras_neg)\n",
    "        \n",
    "print(\"Precisión negativa = {}% via {} ejemplos\".format(negativos/cantidad_muestras_neg*100.0, cantidad_muestras_neg))\n",
    "#frases"
   ]
  },
  {
   "cell_type": "code",
   "execution_count": null,
   "metadata": {},
   "outputs": [],
   "source": []
  }
 ],
 "metadata": {
  "kernelspec": {
   "display_name": "Python 3",
   "language": "python",
   "name": "python3"
  },
  "language_info": {
   "codemirror_mode": {
    "name": "ipython",
    "version": 3
   },
   "file_extension": ".py",
   "mimetype": "text/x-python",
   "name": "python",
   "nbconvert_exporter": "python",
   "pygments_lexer": "ipython3",
   "version": "3.7.3"
  }
 },
 "nbformat": 4,
 "nbformat_minor": 4
}
